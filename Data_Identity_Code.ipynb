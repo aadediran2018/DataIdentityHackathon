{
 "cells": [
  {
   "cell_type": "code",
   "execution_count": 1,
   "metadata": {},
   "outputs": [
    {
     "name": "stdout",
     "output_type": "stream",
     "text": [
      "Populating the interactive namespace from numpy and matplotlib\n"
     ]
    }
   ],
   "source": [
    "# Initiating the Pylab environment in Python\n",
    "%pylab inline"
   ]
  },
  {
   "cell_type": "code",
   "execution_count": 2,
   "metadata": {},
   "outputs": [
    {
     "data": {
      "text/plain": [
       "[<matplotlib.lines.Line2D at 0x10d146438>]"
      ]
     },
     "execution_count": 2,
     "metadata": {},
     "output_type": "execute_result"
    },
    {
     "data": {
      "image/png": "[encoded data removed]",
      "text/plain": [
       "<matplotlib.figure.Figure at 0x103387b70>"
      ]
     },
     "metadata": {},
     "output_type": "display_data"
    }
   ],
   "source": [
    "plot(arange(5)) # Checking if environment has loaded correctly"
   ]
  },
  {
   "cell_type": "code",
   "execution_count": 3,
   "metadata": {},
   "outputs": [
    {
     "data": {
      "text/html": [
       "<div>\n",
       "<style>\n",
       "    .dataframe thead tr:only-child th {\n",
       "        text-align: right;\n",
       "    }\n",
       "\n",
       "    .dataframe thead th {\n",
       "        text-align: left;\n",
       "    }\n",
       "\n",
       "    .dataframe tbody tr th {\n",
       "        vertical-align: top;\n",
       "    }\n",
       "</style>\n",
       "<table border=\"1\" class=\"dataframe\">\n",
       "  <thead>\n",
       "    <tr style=\"text-align: right;\">\n",
       "      <th></th>\n",
       "      <th>id</th>\n",
       "      <th>program_id</th>\n",
       "      <th>program_type</th>\n",
       "      <th>program_duration</th>\n",
       "      <th>test_id</th>\n",
       "      <th>test_type</th>\n",
       "      <th>difficulty_level</th>\n",
       "      <th>trainee_id</th>\n",
       "      <th>gender</th>\n",
       "      <th>education</th>\n",
       "      <th>city_tier</th>\n",
       "      <th>age</th>\n",
       "      <th>total_programs_enrolled</th>\n",
       "      <th>is_handicapped</th>\n",
       "      <th>trainee_engagement_rating</th>\n",
       "      <th>is_pass</th>\n",
       "    </tr>\n",
       "  </thead>\n",
       "  <tbody>\n",
       "    <tr>\n",
       "      <th>0</th>\n",
       "      <td>9389_150</td>\n",
       "      <td>Y_1</td>\n",
       "      <td>Y</td>\n",
       "      <td>136</td>\n",
       "      <td>150</td>\n",
       "      <td>offline</td>\n",
       "      <td>intermediate</td>\n",
       "      <td>9389</td>\n",
       "      <td>M</td>\n",
       "      <td>Matriculation</td>\n",
       "      <td>3</td>\n",
       "      <td>24.0</td>\n",
       "      <td>5</td>\n",
       "      <td>N</td>\n",
       "      <td>1.0</td>\n",
       "      <td>0</td>\n",
       "    </tr>\n",
       "    <tr>\n",
       "      <th>1</th>\n",
       "      <td>16523_44</td>\n",
       "      <td>T_1</td>\n",
       "      <td>T</td>\n",
       "      <td>131</td>\n",
       "      <td>44</td>\n",
       "      <td>offline</td>\n",
       "      <td>easy</td>\n",
       "      <td>16523</td>\n",
       "      <td>F</td>\n",
       "      <td>High School Diploma</td>\n",
       "      <td>4</td>\n",
       "      <td>26.0</td>\n",
       "      <td>2</td>\n",
       "      <td>N</td>\n",
       "      <td>3.0</td>\n",
       "      <td>1</td>\n",
       "    </tr>\n",
       "    <tr>\n",
       "      <th>2</th>\n",
       "      <td>13987_178</td>\n",
       "      <td>Z_2</td>\n",
       "      <td>Z</td>\n",
       "      <td>120</td>\n",
       "      <td>178</td>\n",
       "      <td>online</td>\n",
       "      <td>easy</td>\n",
       "      <td>13987</td>\n",
       "      <td>M</td>\n",
       "      <td>Matriculation</td>\n",
       "      <td>1</td>\n",
       "      <td>40.0</td>\n",
       "      <td>1</td>\n",
       "      <td>N</td>\n",
       "      <td>2.0</td>\n",
       "      <td>1</td>\n",
       "    </tr>\n",
       "    <tr>\n",
       "      <th>3</th>\n",
       "      <td>13158_32</td>\n",
       "      <td>T_2</td>\n",
       "      <td>T</td>\n",
       "      <td>117</td>\n",
       "      <td>32</td>\n",
       "      <td>offline</td>\n",
       "      <td>easy</td>\n",
       "      <td>13158</td>\n",
       "      <td>F</td>\n",
       "      <td>Matriculation</td>\n",
       "      <td>3</td>\n",
       "      <td>NaN</td>\n",
       "      <td>4</td>\n",
       "      <td>N</td>\n",
       "      <td>1.0</td>\n",
       "      <td>1</td>\n",
       "    </tr>\n",
       "    <tr>\n",
       "      <th>4</th>\n",
       "      <td>10591_84</td>\n",
       "      <td>V_3</td>\n",
       "      <td>V</td>\n",
       "      <td>131</td>\n",
       "      <td>84</td>\n",
       "      <td>offline</td>\n",
       "      <td>intermediate</td>\n",
       "      <td>10591</td>\n",
       "      <td>F</td>\n",
       "      <td>High School Diploma</td>\n",
       "      <td>1</td>\n",
       "      <td>42.0</td>\n",
       "      <td>2</td>\n",
       "      <td>N</td>\n",
       "      <td>4.0</td>\n",
       "      <td>1</td>\n",
       "    </tr>\n",
       "  </tbody>\n",
       "</table>\n",
       "</div>"
      ],
      "text/plain": [
       "          id program_id program_type  program_duration  test_id test_type  \\\n",
       "0   9389_150        Y_1            Y               136      150   offline   \n",
       "1   16523_44        T_1            T               131       44   offline   \n",
       "2  13987_178        Z_2            Z               120      178    online   \n",
       "3   13158_32        T_2            T               117       32   offline   \n",
       "4   10591_84        V_3            V               131       84   offline   \n",
       "\n",
       "  difficulty_level  trainee_id gender            education  city_tier   age  \\\n",
       "0     intermediate        9389      M        Matriculation          3  24.0   \n",
       "1             easy       16523      F  High School Diploma          4  26.0   \n",
       "2             easy       13987      M        Matriculation          1  40.0   \n",
       "3             easy       13158      F        Matriculation          3   NaN   \n",
       "4     intermediate       10591      F  High School Diploma          1  42.0   \n",
       "\n",
       "   total_programs_enrolled is_handicapped  trainee_engagement_rating  is_pass  \n",
       "0                        5              N                        1.0        0  \n",
       "1                        2              N                        3.0        1  \n",
       "2                        1              N                        2.0        1  \n",
       "3                        4              N                        1.0        1  \n",
       "4                        2              N                        4.0        1  "
      ]
     },
     "execution_count": 3,
     "metadata": {},
     "output_type": "execute_result"
    }
   ],
   "source": [
    "#Importing libraries and dataset\n",
    "import pandas as pd\n",
    "import numpy as np\n",
    "import matplotlib as plt\n",
    "tf=pd.read_csv(\"/Users/user/Desktop/Data_Identity/train.csv\") #Reading the dataset in a dataframe using Pandas\n",
    "df=pd.read_csv(\"/Users/user/Desktop/Data_Identity/test.csv\")\n",
    "tf.head(5) #Printing first 5 rows"
   ]
  },
  {
   "cell_type": "code",
   "execution_count": 4,
   "metadata": {},
   "outputs": [
    {
     "data": {
      "text/html": [
       "<div>\n",
       "<style>\n",
       "    .dataframe thead tr:only-child th {\n",
       "        text-align: right;\n",
       "    }\n",
       "\n",
       "    .dataframe thead th {\n",
       "        text-align: left;\n",
       "    }\n",
       "\n",
       "    .dataframe tbody tr th {\n",
       "        vertical-align: top;\n",
       "    }\n",
       "</style>\n",
       "<table border=\"1\" class=\"dataframe\">\n",
       "  <thead>\n",
       "    <tr style=\"text-align: right;\">\n",
       "      <th></th>\n",
       "      <th>program_duration</th>\n",
       "      <th>test_id</th>\n",
       "      <th>trainee_id</th>\n",
       "      <th>city_tier</th>\n",
       "      <th>age</th>\n",
       "      <th>total_programs_enrolled</th>\n",
       "      <th>trainee_engagement_rating</th>\n",
       "      <th>is_pass</th>\n",
       "    </tr>\n",
       "  </thead>\n",
       "  <tbody>\n",
       "    <tr>\n",
       "      <th>count</th>\n",
       "      <td>73147.000000</td>\n",
       "      <td>73147.000000</td>\n",
       "      <td>73147.000000</td>\n",
       "      <td>73147.000000</td>\n",
       "      <td>45418.000000</td>\n",
       "      <td>73147.000000</td>\n",
       "      <td>73070.000000</td>\n",
       "      <td>73147.000000</td>\n",
       "    </tr>\n",
       "    <tr>\n",
       "      <th>mean</th>\n",
       "      <td>128.208676</td>\n",
       "      <td>91.079306</td>\n",
       "      <td>9843.079620</td>\n",
       "      <td>2.246845</td>\n",
       "      <td>36.494033</td>\n",
       "      <td>2.583934</td>\n",
       "      <td>2.395634</td>\n",
       "      <td>0.695408</td>\n",
       "    </tr>\n",
       "    <tr>\n",
       "      <th>std</th>\n",
       "      <td>6.889679</td>\n",
       "      <td>51.239048</td>\n",
       "      <td>5703.556093</td>\n",
       "      <td>1.011587</td>\n",
       "      <td>9.041119</td>\n",
       "      <td>1.240816</td>\n",
       "      <td>1.325288</td>\n",
       "      <td>0.460238</td>\n",
       "    </tr>\n",
       "    <tr>\n",
       "      <th>min</th>\n",
       "      <td>117.000000</td>\n",
       "      <td>0.000000</td>\n",
       "      <td>1.000000</td>\n",
       "      <td>1.000000</td>\n",
       "      <td>17.000000</td>\n",
       "      <td>1.000000</td>\n",
       "      <td>1.000000</td>\n",
       "      <td>0.000000</td>\n",
       "    </tr>\n",
       "    <tr>\n",
       "      <th>25%</th>\n",
       "      <td>121.000000</td>\n",
       "      <td>45.000000</td>\n",
       "      <td>5040.000000</td>\n",
       "      <td>1.000000</td>\n",
       "      <td>28.000000</td>\n",
       "      <td>2.000000</td>\n",
       "      <td>1.000000</td>\n",
       "      <td>0.000000</td>\n",
       "    </tr>\n",
       "    <tr>\n",
       "      <th>50%</th>\n",
       "      <td>131.000000</td>\n",
       "      <td>90.000000</td>\n",
       "      <td>9641.000000</td>\n",
       "      <td>2.000000</td>\n",
       "      <td>39.000000</td>\n",
       "      <td>2.000000</td>\n",
       "      <td>2.000000</td>\n",
       "      <td>1.000000</td>\n",
       "    </tr>\n",
       "    <tr>\n",
       "      <th>75%</th>\n",
       "      <td>134.000000</td>\n",
       "      <td>135.000000</td>\n",
       "      <td>14552.000000</td>\n",
       "      <td>3.000000</td>\n",
       "      <td>45.000000</td>\n",
       "      <td>3.000000</td>\n",
       "      <td>4.000000</td>\n",
       "      <td>1.000000</td>\n",
       "    </tr>\n",
       "    <tr>\n",
       "      <th>max</th>\n",
       "      <td>136.000000</td>\n",
       "      <td>187.000000</td>\n",
       "      <td>20098.000000</td>\n",
       "      <td>4.000000</td>\n",
       "      <td>63.000000</td>\n",
       "      <td>14.000000</td>\n",
       "      <td>5.000000</td>\n",
       "      <td>1.000000</td>\n",
       "    </tr>\n",
       "  </tbody>\n",
       "</table>\n",
       "</div>"
      ],
      "text/plain": [
       "       program_duration       test_id    trainee_id     city_tier  \\\n",
       "count      73147.000000  73147.000000  73147.000000  73147.000000   \n",
       "mean         128.208676     91.079306   9843.079620      2.246845   \n",
       "std            6.889679     51.239048   5703.556093      1.011587   \n",
       "min          117.000000      0.000000      1.000000      1.000000   \n",
       "25%          121.000000     45.000000   5040.000000      1.000000   \n",
       "50%          131.000000     90.000000   9641.000000      2.000000   \n",
       "75%          134.000000    135.000000  14552.000000      3.000000   \n",
       "max          136.000000    187.000000  20098.000000      4.000000   \n",
       "\n",
       "                age  total_programs_enrolled  trainee_engagement_rating  \\\n",
       "count  45418.000000             73147.000000               73070.000000   \n",
       "mean      36.494033                 2.583934                   2.395634   \n",
       "std        9.041119                 1.240816                   1.325288   \n",
       "min       17.000000                 1.000000                   1.000000   \n",
       "25%       28.000000                 2.000000                   1.000000   \n",
       "50%       39.000000                 2.000000                   2.000000   \n",
       "75%       45.000000                 3.000000                   4.000000   \n",
       "max       63.000000                14.000000                   5.000000   \n",
       "\n",
       "            is_pass  \n",
       "count  73147.000000  \n",
       "mean       0.695408  \n",
       "std        0.460238  \n",
       "min        0.000000  \n",
       "25%        0.000000  \n",
       "50%        1.000000  \n",
       "75%        1.000000  \n",
       "max        1.000000  "
      ]
     },
     "execution_count": 4,
     "metadata": {},
     "output_type": "execute_result"
    }
   ],
   "source": [
    "tf.describe() #Get summary of numerical variables"
   ]
  },
  {
   "cell_type": "code",
   "execution_count": 5,
   "metadata": {},
   "outputs": [
    {
     "name": "stdout",
     "output_type": "stream",
     "text": [
      "The frequency distribution for Program type: \n",
      "\n"
     ]
    },
    {
     "data": {
      "text/plain": [
       "S     1326\n",
       "X     3328\n",
       "Z     6629\n",
       "U     7821\n",
       "V    13025\n",
       "T    18458\n",
       "Y    22560\n",
       "Name: program_type, dtype: int64"
      ]
     },
     "execution_count": 5,
     "metadata": {},
     "output_type": "execute_result"
    }
   ],
   "source": [
    "print(\"The frequency distribution for Program type: \\n\")\n",
    "tf['program_type'].value_counts(ascending=True) #Frequency distribution for Program type"
   ]
  },
  {
   "cell_type": "code",
   "execution_count": 6,
   "metadata": {},
   "outputs": [
    {
     "name": "stdout",
     "output_type": "stream",
     "text": [
      "The frequency distribution for test type: \n",
      "\n"
     ]
    },
    {
     "data": {
      "text/plain": [
       "online     29604\n",
       "offline    43543\n",
       "Name: test_type, dtype: int64"
      ]
     },
     "execution_count": 6,
     "metadata": {},
     "output_type": "execute_result"
    }
   ],
   "source": [
    "print(\"The frequency distribution for test type: \\n\")\n",
    "tf['test_type'].value_counts(ascending=True) #Frequency distribution for test type"
   ]
  },
  {
   "cell_type": "code",
   "execution_count": 7,
   "metadata": {},
   "outputs": [
    {
     "name": "stdout",
     "output_type": "stream",
     "text": [
      "The frequency distribution for difficulty level: \n",
      "\n"
     ]
    },
    {
     "data": {
      "text/plain": [
       "vary hard        2081\n",
       "hard            10297\n",
       "intermediate    20668\n",
       "easy            40101\n",
       "Name: difficulty_level, dtype: int64"
      ]
     },
     "execution_count": 7,
     "metadata": {},
     "output_type": "execute_result"
    }
   ],
   "source": [
    "print(\"The frequency distribution for difficulty level: \\n\")\n",
    "tf['difficulty_level'].value_counts(ascending=True) #Frequency distribution for difficulty level"
   ]
  },
  {
   "cell_type": "code",
   "execution_count": 8,
   "metadata": {},
   "outputs": [
    {
     "name": "stdout",
     "output_type": "stream",
     "text": [
      "The frequency distribution for gender: \n",
      "\n"
     ]
    },
    {
     "data": {
      "text/plain": [
       "F    34104\n",
       "M    39043\n",
       "Name: gender, dtype: int64"
      ]
     },
     "execution_count": 8,
     "metadata": {},
     "output_type": "execute_result"
    }
   ],
   "source": [
    "print(\"The frequency distribution for gender: \\n\")\n",
    "tf['gender'].value_counts(ascending=True) #Frequency distribution for gender"
   ]
  },
  {
   "cell_type": "code",
   "execution_count": 9,
   "metadata": {},
   "outputs": [
    {
     "name": "stdout",
     "output_type": "stream",
     "text": [
      "The frequency distribution for education: \n",
      "\n"
     ]
    },
    {
     "data": {
      "text/plain": [
       "Masters                  512\n",
       "No Qualification         514\n",
       "Bachelors              11581\n",
       "Matriculation          26169\n",
       "High School Diploma    34371\n",
       "Name: education, dtype: int64"
      ]
     },
     "execution_count": 9,
     "metadata": {},
     "output_type": "execute_result"
    }
   ],
   "source": [
    "print(\"The frequency distribution for education: \\n\")\n",
    "tf['education'].value_counts(ascending=True) #Frequency distribution for gender"
   ]
  },
  {
   "cell_type": "code",
   "execution_count": 10,
   "metadata": {},
   "outputs": [
    {
     "name": "stdout",
     "output_type": "stream",
     "text": [
      "The frequency distribution for handicapped condition: \n",
      "\n"
     ]
    },
    {
     "data": {
      "text/plain": [
       "Y     6570\n",
       "N    66577\n",
       "Name: is_handicapped, dtype: int64"
      ]
     },
     "execution_count": 10,
     "metadata": {},
     "output_type": "execute_result"
    }
   ],
   "source": [
    "print(\"The frequency distribution for handicapped condition: \\n\")\n",
    "tf['is_handicapped'].value_counts(ascending=True) #Frequency distribution for handicapped"
   ]
  },
  {
   "cell_type": "code",
   "execution_count": 11,
   "metadata": {},
   "outputs": [
    {
     "data": {
      "text/plain": [
       "<matplotlib.axes._subplots.AxesSubplot at 0x1128756d8>"
      ]
     },
     "execution_count": 11,
     "metadata": {},
     "output_type": "execute_result"
    },
    {
     "data": {
      "image/png": "[encoded data removed]",
      "text/plain": [
       "<matplotlib.figure.Figure at 0x11288b160>"
      ]
     },
     "metadata": {},
     "output_type": "display_data"
    }
   ],
   "source": [
    "tf['program_duration'].hist(bins=50)"
   ]
  },
  {
   "cell_type": "code",
   "execution_count": 28,
   "metadata": {},
   "outputs": [
    {
     "data": {
      "text/plain": [
       "<matplotlib.axes._subplots.AxesSubplot at 0x11815cba8>"
      ]
     },
     "execution_count": 28,
     "metadata": {},
     "output_type": "execute_result"
    },
    {
     "data": {
      "image/png": "[encoded data removed]",
      "text/plain": [
       "<matplotlib.figure.Figure at 0x118edd160>"
      ]
     },
     "metadata": {},
     "output_type": "display_data"
    }
   ],
   "source": [
    "tf['test_id'].hist(bins=50)"
   ]
  },
  {
   "cell_type": "code",
   "execution_count": 29,
   "metadata": {},
   "outputs": [
    {
     "data": {
      "text/plain": [
       "<matplotlib.axes._subplots.AxesSubplot at 0x11a19ea90>"
      ]
     },
     "execution_count": 29,
     "metadata": {},
     "output_type": "execute_result"
    },
    {
     "data": {
      "image/png": "[encoded data removed]",
      "text/plain": [
       "<matplotlib.figure.Figure at 0x11b0bb400>"
      ]
     },
     "metadata": {},
     "output_type": "display_data"
    }
   ],
   "source": [
    "tf['trainee_id'].hist(bins=50)"
   ]
  },
  {
   "cell_type": "code",
   "execution_count": 14,
   "metadata": {},
   "outputs": [
    {
     "data": {
      "text/plain": [
       "<matplotlib.axes._subplots.AxesSubplot at 0x118360e10>"
      ]
     },
     "execution_count": 14,
     "metadata": {},
     "output_type": "execute_result"
    },
    {
     "data": {
      "image/png": "[encoded data removed]",
      "text/plain": [
       "<matplotlib.figure.Figure at 0x1125c68d0>"
      ]
     },
     "metadata": {},
     "output_type": "display_data"
    }
   ],
   "source": [
    "tf['city_tier'].hist(bins=50)"
   ]
  },
  {
   "cell_type": "code",
   "execution_count": 30,
   "metadata": {},
   "outputs": [
    {
     "data": {
      "text/plain": [
       "<matplotlib.axes._subplots.AxesSubplot at 0x11b7a8b00>"
      ]
     },
     "execution_count": 30,
     "metadata": {},
     "output_type": "execute_result"
    },
    {
     "data": {
      "image/png": "[encoded data removed]",
      "text/plain": [
       "<matplotlib.figure.Figure at 0x11a19e400>"
      ]
     },
     "metadata": {},
     "output_type": "display_data"
    }
   ],
   "source": [
    "tf['age'].hist(bins=50)"
   ]
  },
  {
   "cell_type": "code",
   "execution_count": 31,
   "metadata": {},
   "outputs": [
    {
     "data": {
      "text/plain": [
       "<matplotlib.axes._subplots.AxesSubplot at 0x11baa45f8>"
      ]
     },
     "execution_count": 31,
     "metadata": {},
     "output_type": "execute_result"
    },
    {
     "data": {
      "image/png": "[encoded data removed]",
      "text/plain": [
       "<matplotlib.figure.Figure at 0x11a17cb38>"
      ]
     },
     "metadata": {},
     "output_type": "display_data"
    }
   ],
   "source": [
    "tf['total_programs_enrolled'].hist(bins=50)"
   ]
  },
  {
   "cell_type": "code",
   "execution_count": 32,
   "metadata": {},
   "outputs": [
    {
     "data": {
      "text/plain": [
       "<matplotlib.axes._subplots.AxesSubplot at 0x11bd22978>"
      ]
     },
     "execution_count": 32,
     "metadata": {},
     "output_type": "execute_result"
    },
    {
     "data": {
      "image/png": "[encoded data removed]",
      "text/plain": [
       "<matplotlib.figure.Figure at 0x11bb4cda0>"
      ]
     },
     "metadata": {},
     "output_type": "display_data"
    }
   ],
   "source": [
    "tf['trainee_engagement_rating'].hist(bins=50)"
   ]
  },
  {
   "cell_type": "code",
   "execution_count": 33,
   "metadata": {},
   "outputs": [
    {
     "data": {
      "text/plain": [
       "<matplotlib.axes._subplots.AxesSubplot at 0x11bf115f8>"
      ]
     },
     "execution_count": 33,
     "metadata": {},
     "output_type": "execute_result"
    },
    {
     "data": {
      "image/png": "[encoded data removed]",
      "text/plain": [
       "<matplotlib.figure.Figure at 0x11bfc0198>"
      ]
     },
     "metadata": {},
     "output_type": "display_data"
    }
   ],
   "source": [
    "tf['is_pass'].hist(bins=50)"
   ]
  },
  {
   "cell_type": "code",
   "execution_count": 34,
   "metadata": {},
   "outputs": [
    {
     "data": {
      "text/plain": [
       "<matplotlib.axes._subplots.AxesSubplot at 0x11c0ebeb8>"
      ]
     },
     "execution_count": 34,
     "metadata": {},
     "output_type": "execute_result"
    },
    {
     "data": {
      "image/png": "[encoded data removed]",
      "text/plain": [
       "<matplotlib.figure.Figure at 0x11c1f1908>"
      ]
     },
     "metadata": {},
     "output_type": "display_data"
    }
   ],
   "source": [
    "tf.boxplot(column='program_duration')"
   ]
  },
  {
   "cell_type": "code",
   "execution_count": 35,
   "metadata": {},
   "outputs": [
    {
     "data": {
      "text/plain": [
       "<matplotlib.axes._subplots.AxesSubplot at 0x11c233e48>"
      ]
     },
     "execution_count": 35,
     "metadata": {},
     "output_type": "execute_result"
    },
    {
     "data": {
      "image/png": "[encoded data removed]",
      "text/plain": [
       "<matplotlib.figure.Figure at 0x11c2a60f0>"
      ]
     },
     "metadata": {},
     "output_type": "display_data"
    }
   ],
   "source": [
    "tf.boxplot(column='test_id')"
   ]
  },
  {
   "cell_type": "code",
   "execution_count": 36,
   "metadata": {},
   "outputs": [
    {
     "data": {
      "text/plain": [
       "<matplotlib.axes._subplots.AxesSubplot at 0x11c45a0f0>"
      ]
     },
     "execution_count": 36,
     "metadata": {},
     "output_type": "execute_result"
    },
    {
     "data": {
      "image/png": "[encoded data removed]",
      "text/plain": [
       "<matplotlib.figure.Figure at 0x11c4f4748>"
      ]
     },
     "metadata": {},
     "output_type": "display_data"
    }
   ],
   "source": [
    "tf.boxplot(column='trainee_id')"
   ]
  },
  {
   "cell_type": "code",
   "execution_count": 37,
   "metadata": {},
   "outputs": [
    {
     "data": {
      "text/plain": [
       "<matplotlib.axes._subplots.AxesSubplot at 0x11c52fe10>"
      ]
     },
     "execution_count": 37,
     "metadata": {},
     "output_type": "execute_result"
    },
    {
     "data": {
      "image/png": "[encoded data removed]",
      "text/plain": [
       "<matplotlib.figure.Figure at 0x11c5a0d68>"
      ]
     },
     "metadata": {},
     "output_type": "display_data"
    }
   ],
   "source": [
    "tf.boxplot(column='city_tier')"
   ]
  },
  {
   "cell_type": "code",
   "execution_count": 38,
   "metadata": {},
   "outputs": [
    {
     "data": {
      "text/plain": [
       "<matplotlib.axes._subplots.AxesSubplot at 0x11c5ba908>"
      ]
     },
     "execution_count": 38,
     "metadata": {},
     "output_type": "execute_result"
    },
    {
     "data": {
      "image/png": "[encoded data removed]",
      "text/plain": [
       "<matplotlib.figure.Figure at 0x11c64a390>"
      ]
     },
     "metadata": {},
     "output_type": "display_data"
    }
   ],
   "source": [
    "tf.boxplot(column='age')"
   ]
  },
  {
   "cell_type": "code",
   "execution_count": 55,
   "metadata": {},
   "outputs": [
    {
     "data": {
      "text/plain": [
       "<matplotlib.axes._subplots.AxesSubplot at 0x12917dcf8>"
      ]
     },
     "execution_count": 55,
     "metadata": {},
     "output_type": "execute_result"
    }
   ],
   "source": [
    "tf.boxplot(column='total_programs_enrolled')"
   ]
  },
  {
   "cell_type": "code",
   "execution_count": 39,
   "metadata": {},
   "outputs": [
    {
     "data": {
      "text/plain": [
       "<matplotlib.axes._subplots.AxesSubplot at 0x11c710cc0>"
      ]
     },
     "execution_count": 39,
     "metadata": {},
     "output_type": "execute_result"
    },
    {
     "data": {
      "image/png": "[encoded data removed]",
      "text/plain": [
       "<matplotlib.figure.Figure at 0x11c71df60>"
      ]
     },
     "metadata": {},
     "output_type": "display_data"
    }
   ],
   "source": [
    "tf.boxplot(column='trainee_engagement_rating')"
   ]
  },
  {
   "cell_type": "code",
   "execution_count": 40,
   "metadata": {},
   "outputs": [
    {
     "data": {
      "text/plain": [
       "<matplotlib.axes._subplots.AxesSubplot at 0x11c943048>"
      ]
     },
     "execution_count": 40,
     "metadata": {},
     "output_type": "execute_result"
    },
    {
     "data": {
      "image/png": "[encoded data removed]",
      "text/plain": [
       "<matplotlib.figure.Figure at 0x11c957048>"
      ]
     },
     "metadata": {},
     "output_type": "display_data"
    }
   ],
   "source": [
    "tf.boxplot(column='is_pass', by = 'education')"
   ]
  },
  {
   "cell_type": "code",
   "execution_count": 7,
   "metadata": {},
   "outputs": [
    {
     "data": {
      "text/plain": [
       "id                             int64\n",
       "program_id                     int64\n",
       "program_type                   int64\n",
       "program_duration               int64\n",
       "test_id                        int64\n",
       "test_type                      int64\n",
       "difficulty_level               int64\n",
       "trainee_id                     int64\n",
       "gender                         int64\n",
       "education                      int64\n",
       "city_tier                      int64\n",
       "age                          float64\n",
       "total_programs_enrolled        int64\n",
       "is_handicapped                 int64\n",
       "trainee_engagement_rating    float64\n",
       "is_pass                        int64\n",
       "dtype: object"
      ]
     },
     "execution_count": 7,
     "metadata": {},
     "output_type": "execute_result"
    }
   ],
   "source": [
    "from sklearn.preprocessing import LabelEncoder\n",
    "var_mod = ['id','program_id','program_type','test_type','difficulty_level','gender','education','is_handicapped']\n",
    "le = LabelEncoder()\n",
    "for i in var_mod:\n",
    "    tf[i] = le.fit_transform(tf[i])\n",
    "tf.dtypes"
   ]
  },
  {
   "cell_type": "code",
   "execution_count": 8,
   "metadata": {},
   "outputs": [
    {
     "data": {
      "text/plain": [
       "id                             int64\n",
       "program_id                     int64\n",
       "program_type                   int64\n",
       "program_duration               int64\n",
       "test_id                        int64\n",
       "test_type                      int64\n",
       "difficulty_level               int64\n",
       "trainee_id                     int64\n",
       "gender                         int64\n",
       "education                      int64\n",
       "city_tier                      int64\n",
       "age                          float64\n",
       "total_programs_enrolled        int64\n",
       "is_handicapped                 int64\n",
       "trainee_engagement_rating    float64\n",
       "dtype: object"
      ]
     },
     "execution_count": 8,
     "metadata": {},
     "output_type": "execute_result"
    }
   ],
   "source": [
    "var_mode = ['id','program_id','program_type','test_type','difficulty_level','gender','education','is_handicapped']\n",
    "led = LabelEncoder()\n",
    "for i in var_mode:\n",
    "    df[i] = le.fit_transform(df[i])\n",
    "df.dtypes"
   ]
  },
  {
   "cell_type": "code",
   "execution_count": 9,
   "metadata": {
    "scrolled": true
   },
   "outputs": [
    {
     "name": "stdout",
     "output_type": "stream",
     "text": [
      "Missing values per column:\n",
      "id                               0\n",
      "program_id                       0\n",
      "program_type                     0\n",
      "program_duration                 0\n",
      "test_id                          0\n",
      "test_type                        0\n",
      "difficulty_level                 0\n",
      "trainee_id                       0\n",
      "gender                           0\n",
      "education                        0\n",
      "city_tier                        0\n",
      "age                          27729\n",
      "total_programs_enrolled          0\n",
      "is_handicapped                   0\n",
      "trainee_engagement_rating       77\n",
      "is_pass                          0\n",
      "dtype: int64\n",
      "id                               0\n",
      "program_id                       0\n",
      "program_type                     0\n",
      "program_duration                 0\n",
      "test_id                          0\n",
      "test_type                        0\n",
      "difficulty_level                 0\n",
      "trainee_id                       0\n",
      "gender                           0\n",
      "education                        0\n",
      "city_tier                        0\n",
      "age                          11791\n",
      "total_programs_enrolled          0\n",
      "is_handicapped                   0\n",
      "trainee_engagement_rating       31\n",
      "dtype: int64\n"
     ]
    }
   ],
   "source": [
    "#Create a new function:\n",
    "def num_missing(x):\n",
    "  return sum(x.isnull())\n",
    "\n",
    "#Applying number of missing values per column:\n",
    "print(\"Missing values per column:\")\n",
    "print(tf.apply(num_missing, axis=0)) #axis=0 defines that function is to be applied on each column\n",
    "print(df.apply(num_missing, axis=0))"
   ]
  },
  {
   "cell_type": "code",
   "execution_count": 11,
   "metadata": {},
   "outputs": [
    {
     "name": "stdout",
     "output_type": "stream",
     "text": [
      "id                           0\n",
      "program_id                   0\n",
      "program_type                 0\n",
      "program_duration             0\n",
      "test_id                      0\n",
      "test_type                    0\n",
      "difficulty_level             0\n",
      "trainee_id                   0\n",
      "gender                       0\n",
      "education                    0\n",
      "city_tier                    0\n",
      "age                          0\n",
      "total_programs_enrolled      0\n",
      "is_handicapped               0\n",
      "trainee_engagement_rating    0\n",
      "is_pass                      0\n",
      "dtype: int64\n"
     ]
    }
   ],
   "source": [
    "table = tf.pivot_table(values='age', index='city_tier' ,columns='education', aggfunc=np.median)\n",
    "\n",
    "# Define function to return value of this pivot_table\n",
    "def fage(x):\n",
    " return table.loc[x['city_tier'],x['education']]\n",
    "# Replace missing values\n",
    "tf['age'].fillna(tf[tf['age'].isnull()].apply(fage, axis=1), inplace=True)\n",
    "table1 = tf.pivot_table(values='trainee_engagement_rating', index='city_tier' ,columns='education', aggfunc=np.median)\n",
    "def fages(x):\n",
    " return table1.loc[x['city_tier'],x['education']]\n",
    "tf['trainee_engagement_rating'].fillna(tf[tf['trainee_engagement_rating'].isnull()].apply(fages, axis=1), inplace=True)\n",
    "#Now check the missing values again to confirm:\n",
    "print(tf.apply(num_missing, axis=0))"
   ]
  },
  {
   "cell_type": "code",
   "execution_count": 12,
   "metadata": {},
   "outputs": [
    {
     "name": "stdout",
     "output_type": "stream",
     "text": [
      "id                           0\n",
      "program_id                   0\n",
      "program_type                 0\n",
      "program_duration             0\n",
      "test_id                      0\n",
      "test_type                    0\n",
      "difficulty_level             0\n",
      "trainee_id                   0\n",
      "gender                       0\n",
      "education                    0\n",
      "city_tier                    0\n",
      "age                          0\n",
      "total_programs_enrolled      0\n",
      "is_handicapped               0\n",
      "trainee_engagement_rating    0\n",
      "dtype: int64\n"
     ]
    }
   ],
   "source": [
    "table2 = df.pivot_table(values='age', index='city_tier' ,columns='education', aggfunc=np.median)\n",
    "# Define function to return value of this pivot_table\n",
    "def fagee(x):\n",
    " return table2.loc[x['city_tier'],x['education']]\n",
    "# Replace missing values\n",
    "df['age'].fillna(df[df['age'].isnull()].apply(fagee, axis=1), inplace=True)\n",
    "table3 = df.pivot_table(values='trainee_engagement_rating', index='city_tier' ,columns='education', aggfunc=np.median)\n",
    "def fagees(x):\n",
    " return table3.loc[x['city_tier'],x['education']]\n",
    "df['trainee_engagement_rating'].fillna(df[df['trainee_engagement_rating'].isnull()].apply(fagees, axis=1), inplace=True)\n",
    "#Now check the missing values again to confirm:\n",
    "print(df.apply(num_missing, axis=0))"
   ]
  },
  {
   "cell_type": "code",
   "execution_count": 13,
   "metadata": {},
   "outputs": [],
   "source": [
    "# Use numpy to convert to arrays\n",
    "#import numpy as np\n",
    "\n",
    "# Labels are the values we want to predict\n",
    "#labels = np.array(tf['is_pass'])\n",
    "\n",
    "#print(labels)"
   ]
  },
  {
   "cell_type": "code",
   "execution_count": 14,
   "metadata": {},
   "outputs": [],
   "source": [
    "# Remove the labels from the features\n",
    "# axis 1 refers to the columns\n",
    "#tf= tf.drop('is_pass', axis = 1)\n",
    "\n",
    "# Saving feature names for later use\n",
    "#feature_list = list(tf.columns)\n",
    "#feature_list_test = list(df.columns)\n",
    "#print(feature_list)"
   ]
  },
  {
   "cell_type": "code",
   "execution_count": 15,
   "metadata": {
    "collapsed": true
   },
   "outputs": [],
   "source": [
    "# Convert to numpy array\n",
    "#tf = np.array(tf)"
   ]
  },
  {
   "cell_type": "code",
   "execution_count": 16,
   "metadata": {},
   "outputs": [],
   "source": [
    "# Using Skicit-learn to split data into training and testing sets\n",
    "#from sklearn.model_selection import train_test_split\n",
    "\n",
    "# Split the data into training and testing sets\n",
    "#train_features, test_features, train_labels, test_labels = train_test_split(tf, labels, test_size = 0.25, random_state = 42)\n",
    "#print('Training Features Shape:', train_features.shape)\n",
    "#print('Training Labels Shape:', train_labels.shape)\n",
    "#print('Testing Features Shape:', test_features.shape)\n",
    "#print('Testing Labels Shape:', test_labels.shape)"
   ]
  },
  {
   "cell_type": "code",
   "execution_count": 22,
   "metadata": {},
   "outputs": [],
   "source": [
    "#Import models from scikit learn module:\n",
    "from sklearn.linear_model import LogisticRegression\n",
    "from sklearn.cross_validation import KFold   #For K-fold cross validation\n",
    "from sklearn.ensemble import RandomForestClassifier\n",
    "from sklearn.tree import DecisionTreeClassifier, export_graphviz\n",
    "from sklearn import metrics\n",
    "\n",
    "#Generic function for making a classification model and accessing performance:\n",
    "def classification_model(model, data, predictors, outcome):\n",
    "  #Fit the model:\n",
    "  model.fit(data[predictors],data[outcome])\n",
    "  \n",
    "  #Make predictions on training set:\n",
    "  predictions = model.predict(data[predictors])\n",
    "  \n",
    "  #Print accuracy\n",
    "  accuracy = metrics.accuracy_score(predictions,data[outcome])\n",
    "  print(\"Accuracy : %s\" % \"{0:.3%}\".format(accuracy))\n",
    "\n",
    "  #Perform k-fold cross-validation with 5 folds\n",
    "  kf = KFold(data.shape[0], n_folds=5)\n",
    "  error = []\n",
    "  for train, test in kf:\n",
    "    # Filter training data\n",
    "    train_predictors = (data[predictors].iloc[train,:])\n",
    "    \n",
    "    # The target we're using to train the algorithm.\n",
    "    train_target = data[outcome].iloc[train]\n",
    "    \n",
    "    # Training the algorithm using the predictors and target.\n",
    "    model.fit(train_predictors, train_target)\n",
    "    \n",
    "    #Record error from each cross-validation run\n",
    "    error.append(model.score(data[predictors].iloc[test,:], data[outcome].iloc[test]))\n",
    " \n",
    "  print(\"Cross-Validation Score : %s\" % \"{0:.3%}\".format(np.mean(error)))\n",
    "\n",
    "  #Fit the model again so that it can be refered outside the function:\n",
    "  model.fit(data[predictors],data[outcome]) \n"
   ]
  },
  {
   "cell_type": "code",
   "execution_count": 28,
   "metadata": {},
   "outputs": [
    {
     "name": "stdout",
     "output_type": "stream",
     "text": [
      "Accuracy : 99.995%\n",
      "Cross-Validation Score : 75.449%\n"
     ]
    }
   ],
   "source": [
    "model = RandomForestClassifier(n_estimators=100)\n",
    "predictor_var = ['id', 'program_id', 'program_type', 'program_duration',\n",
    "       'test_id', 'test_type', 'difficulty_level', 'trainee_id',\n",
    "        'gender','education', 'city_tier', 'age',\n",
    "        'total_programs_enrolled','is_handicapped','trainee_engagement_rating']\n",
    "classification_model(model, tf,predictor_var,outcome_var)"
   ]
  },
  {
   "cell_type": "code",
   "execution_count": 29,
   "metadata": {},
   "outputs": [
    {
     "name": "stdout",
     "output_type": "stream",
     "text": [
      "id                           0.232285\n",
      "trainee_id                   0.182485\n",
      "test_id                      0.137605\n",
      "age                          0.117220\n",
      "trainee_engagement_rating    0.059585\n",
      "total_programs_enrolled      0.049887\n",
      "city_tier                    0.047356\n",
      "education                    0.034308\n",
      "program_id                   0.027207\n",
      "difficulty_level             0.025598\n",
      "test_type                    0.020264\n",
      "gender                       0.019603\n",
      "program_duration             0.018511\n",
      "is_handicapped               0.014375\n",
      "program_type                 0.013712\n",
      "dtype: float64\n"
     ]
    }
   ],
   "source": [
    "#Create a series with feature importances:\n",
    "featimp = pd.Series(model.feature_importances_, index=predictor_var).sort_values(ascending=False)\n",
    "print(featimp)"
   ]
  },
  {
   "cell_type": "code",
   "execution_count": 37,
   "metadata": {},
   "outputs": [
    {
     "data": {
      "image/png": "[encoded data removed]",
      "text/plain": [
       "<matplotlib.figure.Figure at 0x110f6b9b0>"
      ]
     },
     "metadata": {},
     "output_type": "display_data"
    }
   ],
   "source": [
    "# Import matplotlib for plotting and use magic command for Jupyter Notebooks\n",
    "import matplotlib.pyplot as plt\n",
    "\n",
    "\n",
    "\n",
    "# Set the style\n",
    "plt.style.use('fivethirtyeight')\n",
    "\n",
    "# list of x locations for plotting\n",
    "x_values = list(range(len(model.feature_importances_)))\n",
    "\n",
    "# Make a bar chart\n",
    "plt.bar(x_values, model.feature_importances_, orientation = 'vertical')\n",
    "\n",
    "# Tick labels for x axis\n",
    "plt.xticks(x_values, predictor_var, rotation='vertical')\n",
    "\n",
    "# Axis labels and title\n",
    "plt.ylabel('Importance'); plt.xlabel('Variable'); plt.title('Variable Importances');"
   ]
  },
  {
   "cell_type": "code",
   "execution_count": 83,
   "metadata": {},
   "outputs": [
    {
     "name": "stdout",
     "output_type": "stream",
     "text": [
      "Accuracy : 99.999%\n",
      "Cross-Validation Score : 75.735%\n"
     ]
    }
   ],
   "source": [
    "model = RandomForestClassifier(n_estimators=100)\n",
    "predictor_var = ['id','trainee_id','test_id','age','trainee_engagement_rating','total_programs_enrolled','city_tier','education','program_id']\n",
    "classification_model(model, tf,predictor_var,outcome_var)"
   ]
  },
  {
   "cell_type": "code",
   "execution_count": null,
   "metadata": {},
   "outputs": [],
   "source": []
  }
 ],
 "metadata": {
  "kernelspec": {
   "display_name": "Python 3",
   "language": "python",
   "name": "python3"
  },
  "language_info": {
   "codemirror_mode": {
    "name": "ipython",
    "version": 3
   },
   "file_extension": ".py",
   "mimetype": "text/x-python",
   "name": "python",
   "nbconvert_exporter": "python",
   "pygments_lexer": "ipython3",
   "version": "3.6.1"
  }
 },
 "nbformat": 4,
 "nbformat_minor": 2
}
